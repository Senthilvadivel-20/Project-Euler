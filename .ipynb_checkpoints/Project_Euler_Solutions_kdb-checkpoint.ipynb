{
 "cells": [
  {
   "cell_type": "code",
   "execution_count": null,
   "id": "631c747e",
   "metadata": {},
   "outputs": [],
   "source": []
  },
  {
   "cell_type": "code",
   "execution_count": null,
   "id": "503837a9",
   "metadata": {},
   "outputs": [],
   "source": []
  },
  {
   "cell_type": "markdown",
   "id": "5739e6b9",
   "metadata": {},
   "source": [
    "# 4\n",
    "\n",
    "\n",
    "Auth: Senthil\n",
    "Date; 01/08/2024\n",
    "\n",
    "Find the largest palindrom of product of 3 digit \n"
   ]
  },
  {
   "cell_type": "code",
   "execution_count": 2,
   "id": "726c9bfe",
   "metadata": {},
   "outputs": [
    {
     "name": "stdout",
     "output_type": "stream",
     "text": [
      "906609\n"
     ]
    },
    {
     "data": {
      "text/plain": [
       "906609\n"
      ]
     },
     "execution_count": 2,
     "metadata": {},
     "output_type": "execute_result"
    }
   ],
   "source": [
    "\n",
    "\n",
    "\n",
    "l1: 100+til 900\n",
    "\n",
    "nums: l1 cross l1\n",
    "\n",
    "res : desc prd each nums\n",
    "\n",
    "pal:{x: string x; ~[x;reverse x]}\n",
    "\n",
    "n:0\n",
    "\n",
    "while[not pal res[n];n+:1]\n",
    "\n",
    "0N!res[n]"
   ]
  },
  {
   "cell_type": "markdown",
   "id": "b7cd74b6",
   "metadata": {},
   "source": [
    "# 4. Smallest Multiple\n",
    "\n",
    "Date: 02/08/2024\n"
   ]
  },
  {
   "cell_type": "code",
   "execution_count": 8,
   "id": "6e90644c",
   "metadata": {},
   "outputs": [
    {
     "data": {
      "text/plain": [
       "2\n"
      ]
     },
     "execution_count": 8,
     "metadata": {},
     "output_type": "execute_result"
    }
   ],
   "source": [
    "/find the gcd\n",
    "\n",
    "gcd:{[a;b] while[b<>0; temp:b ;b:a mod b ;a:temp];:a};\n",
    "\n",
    "gcd[10;16]"
   ]
  },
  {
   "cell_type": "code",
   "execution_count": 9,
   "id": "65652f28",
   "metadata": {},
   "outputs": [],
   "source": [
    "/ Find the LCM\n",
    "\n",
    "lcm:{[a;b] (a*b)%gcd[a;b]}"
   ]
  },
  {
   "cell_type": "code",
   "execution_count": 14,
   "id": "421d9998",
   "metadata": {},
   "outputs": [
    {
     "data": {
      "text/plain": [
       "232792560f\n"
      ]
     },
     "execution_count": 14,
     "metadata": {},
     "output_type": "execute_result"
    }
   ],
   "source": [
    "/ Answer part\n",
    "\n",
    " P 10\n",
    "\n",
    "(lcm/) (1+til 20)\n"
   ]
  },
  {
   "cell_type": "code",
   "execution_count": null,
   "id": "71a80096",
   "metadata": {},
   "outputs": [],
   "source": []
  },
  {
   "cell_type": "markdown",
   "id": "a50e1598",
   "metadata": {},
   "source": [
    "# 7. 10001st Prime\n",
    "\n",
    "<p>By listing the first six prime numbers: 2, 3, 5, 7, 11, and 13, we can see that the $6$th prime is 13.</p>\n",
    "<p>What is the 10,001 st prime number?</p>\n",
    "\n",
    "#### The below one is brute force"
   ]
  },
  {
   "cell_type": "code",
   "execution_count": 3,
   "id": "6750f2c6",
   "metadata": {},
   "outputs": [],
   "source": [
    "/ Find the factor function\n",
    "\n",
    "/ !!!!!!!!!!!!!!!!! Brute Force !!!!!!!!!!!!!!!!!!!!!!!!!!!\n",
    "\n",
    "fac:{[n] d:2;lis:();while[n>1;[while[(n mod d) = 0; lis,:d;n:n%d];d+:1]]; count lis}\n",
    "\n",
    "prime_lis: ()\n",
    "\n",
    "n:2\n",
    "\n",
    "while[\n",
    "    (count prime_lis) <> 100;\n",
    "    if[fac[n] = 1;prime_lis,:n];\n",
    "    n+:1\n",
    "    ]\n"
   ]
  },
  {
   "cell_type": "code",
   "execution_count": 3,
   "id": "4ef177c4",
   "metadata": {},
   "outputs": [
    {
     "data": {
      "text/plain": [
       "104743\n"
      ]
     },
     "execution_count": 3,
     "metadata": {},
     "output_type": "execute_result"
    }
   ],
   "source": [
    "// !!!!!!!!!1 Optimum solution !!!!!!!!!!\n",
    "\n",
    "/\n",
    "The above one is brute force method and we can reduce billions of steps. \n",
    "\n",
    "Once the number is divided by 2 or 3 then it's definetly not a prime number. Why you have to find the all factor for the number and find the fucking count. \n",
    "\n",
    "Reduce the multiple iteration. Once it not divided by 2 or 3 other prime factors might be 5,7, 11, 13 etc. But you can see after 2 prime numbers have patters. It's increase by 6 by 6.\n",
    "\n",
    "29 31 37 39 41 43\n",
    "0   2  6  2  6  2\n",
    "\n",
    " \n",
    "\n",
    "/---------------------Wrong Output-------------------------------------\n",
    "\n",
    "prime_list:();\n",
    "\n",
    "prime:{\n",
    "    i:5;\n",
    "    $[x <= 1;res:0b;x <=3;res:1b;(((x mod 2) = 0) or ((x mod 3)=0));res:0b;res:1b];\n",
    "    while[((i*i) <= x) * res;\n",
    "        / 0N!i;\n",
    "        if[(((x mod i) = 0) or ((x mod (i+2)) = 0));res:0b];\n",
    "        i+:6;\n",
    "        ];\n",
    "    res\n",
    "    };\n",
    "\n",
    "n:2\n",
    "c:0\n",
    "\n",
    "while[c < 10001;\n",
    "    if[prime(n);prime_list,:n;c+:1];\n",
    "    n+:1\n",
    "    ]\n",
    "\n",
    "last prime_list\n",
    "\n"
   ]
  },
  {
   "cell_type": "code",
   "execution_count": null,
   "id": "dbd42e7d",
   "metadata": {},
   "outputs": [],
   "source": []
  },
  {
   "cell_type": "code",
   "execution_count": null,
   "id": "4f2bc928",
   "metadata": {},
   "outputs": [],
   "source": []
  },
  {
   "cell_type": "code",
   "execution_count": null,
   "id": "2b0bb10f",
   "metadata": {},
   "outputs": [],
   "source": []
  },
  {
   "cell_type": "markdown",
   "id": "1cb28fe5",
   "metadata": {},
   "source": [
    "# 8. Largest Product in a Series\n",
    "\n",
    "<p>The four adjacent digits in the $1000$-digit number that have the greatest product are $9  times 9  times 8  times 9 = 5832$.</p>\n",
    "<p class=\"monospace center\">\n",
    "73167176531330624919225119674426574742355349194934<br>\n",
    "96983520312774506326239578318016984801869478851843<br>\n",
    "85861560789112949495459501737958331952853208805511<br>\n",
    "12540698747158523863050715693290963295227443043557<br>\n",
    "66896648950445244523161731856403098711121722383113<br>\n",
    "62229893423380308135336276614282806444486645238749<br>\n",
    "30358907296290491560440772390713810515859307960866<br>\n",
    "70172427121883998797908792274921901699720888093776<br>\n",
    "65727333001053367881220235421809751254540594752243<br>\n",
    "52584907711670556013604839586446706324415722155397<br>\n",
    "53697817977846174064955149290862569321978468622482<br>\n",
    "83972241375657056057490261407972968652414535100474<br>\n",
    "82166370484403199890008895243450658541227588666881<br>\n",
    "16427171479924442928230863465674813919123162824586<br>\n",
    "17866458359124566529476545682848912883142607690042<br>\n",
    "24219022671055626321111109370544217506941658960408<br>\n",
    "07198403850962455444362981230987879927244284909188<br>\n",
    "84580156166097919133875499200524063689912560717606<br>\n",
    "05886116467109405077541002256983155200055935729725<br>\n",
    "71636269561882670428252483600823257530420752963450<br></p>\n",
    "<p>Find the thirteen adjacent digits in the $1000$-digit number that have the greatest product. What is the value of this product?</p>\n"
   ]
  },
  {
   "cell_type": "code",
   "execution_count": 39,
   "id": "1642769f",
   "metadata": {},
   "outputs": [
    {
     "data": {
      "text/plain": [
       "23514624000\n"
      ]
     },
     "execution_count": 39,
     "metadata": {},
     "output_type": "execute_result"
    }
   ],
   "source": [
    "num: \"7316717653133062491922511967442657474235534919493496983520312774506326239578318016984801869478851843858615607891129494954595017379583319528532088055111254069874715852386305071569329096329522744304355766896648950445244523161731856403098711121722383113622298934233803081353362766142828064444866452387493035890729629049156044077239071381051585930796086670172427121883998797908792274921901699720888093776657273330010533678812202354218097512545405947522435258490771167055601360483958644670632441572215539753697817977846174064955149290862569321978468622482839722413756570560574902614079729686524145351004748216637048440319989000889524345065854122758866688116427171479924442928230863465674813919123162824586178664583591245665294765456828489128831426076900422421902267105562632111110937054421750694165896040807198403850962455444362981230987879927244284909188845801561660979191338754992005240636899125607176060588611646710940507754100225698315520005593572972571636269561882670428252483600823257530420752963450\"\n",
    "\n",
    "num: \"J\"$(string num)\n",
    "\n",
    "adj: (count(num)) - 4\n",
    "m::0\n",
    "ms::()\n",
    "\n",
    "{if[(tempM:(prd (temp: num [x+til 13]))) > m; m::tempM;ms:: temp]}'[til adj];\n",
    "\n",
    "m"
   ]
  },
  {
   "cell_type": "code",
   "execution_count": null,
   "id": "96f56784",
   "metadata": {},
   "outputs": [],
   "source": []
  },
  {
   "cell_type": "markdown",
   "id": "57cf9b01",
   "metadata": {},
   "source": [
    "# 9. Special Pythagorean Triplet\n",
    "\n",
    "\n",
    "<p>A Pythagorean triplet is a set of three natural numbers, $a  lt b  lt c$, for which,\n",
    "$$a^2 + b^2 = c^2.$$</p>\n",
    "<p>For example, $3^2 + 4^2 = 9 + 16 = 25 = 5^2$.</p>\n",
    "<p>There exists exactly one Pythagorean triplet for which $a + b + c = 1000$.<br>Find the product $abc$.</p>\n",
    "\n",
    "**I have derived the equation in my notebook. It basically about pythagoras therom. c^2 = a^2 + b^2.**\n"
   ]
  },
  {
   "cell_type": "code",
   "execution_count": 1,
   "id": "f888f94e",
   "metadata": {},
   "outputs": [],
   "source": [
    "numB:{(1000*(500-x)) % (1000 - x)}"
   ]
  },
  {
   "cell_type": "code",
   "execution_count": 18,
   "id": "2322ab4f",
   "metadata": {},
   "outputs": [
    {
     "data": {
      "text/plain": [
       "31875000f\n"
      ]
     },
     "execution_count": 18,
     "metadata": {},
     "output_type": "execute_result"
    }
   ],
   "source": [
    "a:1\n",
    "while[((`long$(b)) - b:(numB a)) <> 0f;a+:1]\n",
    "\n",
    "/ based on the question\n",
    "/ a+b+c = 1000\n",
    "\n",
    "c : (1000 - a) - b\n",
    "\n",
    " P 10\n",
    "\n",
    "prd (a;b;c)"
   ]
  },
  {
   "cell_type": "code",
   "execution_count": null,
   "id": "a08e9bc4",
   "metadata": {},
   "outputs": [],
   "source": []
  },
  {
   "cell_type": "markdown",
   "id": "a99ccea7",
   "metadata": {},
   "source": [
    "# Summation of Primes\n",
    "\n",
    "<p>The sum of the primes below $10$ is $2 + 3 + 5 + 7 = 17$.</p>\n",
    "<p>Find the sum of all the primes below two million.</p>"
   ]
  },
  {
   "cell_type": "code",
   "execution_count": 7,
   "id": "939f8ec5",
   "metadata": {},
   "outputs": [
    {
     "data": {
      "text/plain": [
       "142913828922\n"
      ]
     },
     "execution_count": 7,
     "metadata": {},
     "output_type": "execute_result"
    }
   ],
   "source": [
    "/ Use the above function to find the prime\n",
    "\n",
    "\n",
    "primeSum:0\n",
    "\n",
    "n:2\n",
    "\n",
    "while[n < 2000000;if[prime(n);primeSum+:n];n+:1]\n",
    "\n",
    "primeSum"
   ]
  },
  {
   "cell_type": "code",
   "execution_count": null,
   "id": "5e1b6d41",
   "metadata": {},
   "outputs": [],
   "source": []
  },
  {
   "cell_type": "markdown",
   "id": "828c16f3",
   "metadata": {},
   "source": [
    "# Largest Product in a Grid\n",
    "\n",
    "Problem 11\n",
    "\n",
    "<p>In the $20  times 20$ grid below, four numbers along a diagonal line have been marked in red.</p>\n",
    "<p class=\"monospace center\">\n",
    "08 02 22 97 38 15 00 40 00 75 04 05 07 78 52 12 50 77 91 08<br>\n",
    "49 49 99 40 17 81 18 57 60 87 17 40 98 43 69 48 04 56 62 00<br>\n",
    "81 49 31 73 55 79 14 29 93 71 40 67 53 88 30 03 49 13 36 65<br>\n",
    "52 70 95 23 04 60 11 42 69 24 68 56 01 32 56 71 37 02 36 91<br>\n",
    "22 31 16 71 51 67 63 89 41 92 36 54 22 40 40 28 66 33 13 80<br>\n",
    "24 47 32 60 99 03 45 02 44 75 33 53 78 36 84 20 35 17 12 50<br>\n",
    "32 98 81 28 64 23 67 10 <span class=\"red\"><b>26</b></span> 38 40 67 59 54 70 66 18 38 64 70<br>\n",
    "67 26 20 68 02 62 12 20 95 <span class=\"red\"><b>63</b></span> 94 39 63 08 40 91 66 49 94 21<br>\n",
    "24 55 58 05 66 73 99 26 97 17 <span class=\"red\"><b>78</b></span> 78 96 83 14 88 34 89 63 72<br>\n",
    "21 36 23 09 75 00 76 44 20 45 35 <span class=\"red\"><b>14</b></span> 00 61 33 97 34 31 33 95<br>\n",
    "78 17 53 28 22 75 31 67 15 94 03 80 04 62 16 14 09 53 56 92<br>\n",
    "16 39 05 42 96 35 31 47 55 58 88 24 00 17 54 24 36 29 85 57<br>\n",
    "86 56 00 48 35 71 89 07 05 44 44 37 44 60 21 58 51 54 17 58<br>\n",
    "19 80 81 68 05 94 47 69 28 73 92 13 86 52 17 77 04 89 55 40<br>\n",
    "04 52 08 83 97 35 99 16 07 97 57 32 16 26 26 79 33 27 98 66<br>\n",
    "88 36 68 87 57 62 20 72 03 46 33 67 46 55 12 32 63 93 53 69<br>\n",
    "04 42 16 73 38 25 39 11 24 94 72 18 08 46 29 32 40 62 76 36<br>\n",
    "20 69 36 41 72 30 23 88 34 62 99 69 82 67 59 85 74 04 36 16<br>\n",
    "20 73 35 29 78 31 90 01 74 31 49 71 48 86 81 16 23 57 05 54<br>\n",
    "01 70 54 71 83 51 54 69 16 92 33 48 61 43 52 01 89 19 67 48<br></p>\n",
    "<p>The product of these numbers is $26  times 63  times 78  times 14 = 1788696$.</p>\n",
    "<p>What is the greatest product of four adjacent numbers in the same direction (up, down, left, right, or diagonally) in the $20  times 20$ grid?</p>"
   ]
  },
  {
   "cell_type": "code",
   "execution_count": 12,
   "id": "eddb6b1e",
   "metadata": {},
   "outputs": [
    {
     "name": "stdout",
     "output_type": "stream",
     "text": [
      "70600674\n"
     ]
    }
   ],
   "source": [
    "n: 20 20#(08 02 22 97 38 15 00 40 00 75 04 05 07 78 52 12 50 77 91 08 49 49 99 40 17 81 18 57 60 87 17 40 98 43 69 48 04 56 62 00 81 49 31 73 55 79 14 29 93 71 40 67 53 88 30 03 49 13 36 65 52 70 95 23 04 60 11 42 69 24 68 56 01 32 56 71 37 02 36 91 22 31 16 71 51 67 63 89 41 92 36 54 22 40 40 28 66 33 13 80 24 47 32 60 99 03 45 02 44 75 33 53 78 36 84 20 35 17 12 50 32 98 81 28 64 23 67 10 26 38 40 67 59 54 70 66 18 38 64 70 67 26 20 68 02 62 12 20 95 63 94 39 63 08 40 91 66 49 94 21 24 55 58 05 66 73 99 26 97 17 78 78 96 83 14 88 34 89 63 72 21 36 23 09 75 00 76 44 20 45 35 14 00 61 33 97 34 31 33 95 78 17 53 28 22 75 31 67 15 94 03 80 04 62 16 14 09 53 56 92 16 39 05 42 96 35 31 47 55 58 88 24 00 17 54 24 36 29 85 57 86 56 00 48 35 71 89 07 05 44 44 37 44 60 21 58 51 54 17 58 19 80 81 68 05 94 47 69 28 73 92 13 86 52 17 77 04 89 55 40 04 52 08 83 97 35 99 16 07 97 57 32 16 26 26 79 33 27 98 66 88 36 68 87 57 62 20 72 03 46 33 67 46 55 12 32 63 93 53 69 04 42 16 73 38 25 39 11 24 94 72 18 08 46 29 32 40 62 76 36 20 69 36 41 72 30 23 88 34 62 99 69 82 67 59 85 74 04 36 16 20 73 35 29 78 31 90 01 74 31 49 71 48 86 81 16 23 57 05 54 01 70 54 71 83 51 54 69 16 92 33 48 61 43 52 01 89 19 67 48)\n",
    "\n",
    "/ right:{[x] y:x[1]; x:x[0];$[(y<17) and (x < 17);prd n[x;y+til 4];0]};\n",
    "\n",
    "/ down:{[x] y:x[1]; x:x[0];$[(y<17) and (x < 17);prd n[x+til 4;y];0]};\n",
    "\n",
    "/ diagR:{[x] y:x[1]; x:x[0];$[(y<17) and (x < 17);prd n'[x+til 4;y+til 4];0]};\n",
    "\n",
    "/ diagL:{[x] y:x[1]; x:x[0];$[(y<17) and (x < 17);prd n'[(x+til 4);(y-til 4)];0]};\n",
    "\n",
    "/Define max variable\n",
    "M:: 0\n",
    "\n",
    "/list of position\n",
    "l:((til 20) cross (til 20))\n",
    "\n",
    "/The function will return the each adjacent left, right, down, up, diag left, diag right\n",
    "PosMax:{[x] y:x[1]; x:x[0];$[(y<17) and (x < 17);max prd each (n[x;y+til 4];n[x+til 4;y];n'[x+til 4;y+til 4];n'[(x+til 4);(y-til 4)]);0]};\n",
    "\n",
    "{if[(nM:PosMax x) > M; M::nM]}'[l];\n",
    "\n",
    "\n",
    "\n",
    "/result\n",
    "show M"
   ]
  },
  {
   "cell_type": "markdown",
   "id": "dae937fd",
   "metadata": {},
   "source": [
    "# Highly Divisible Triangular Number\n",
    "\n",
    "Problem 12"
   ]
  },
  {
   "cell_type": "code",
   "execution_count": 2,
   "id": "506f6099",
   "metadata": {},
   "outputs": [],
   "source": [
    "/ find the factor of the number\n",
    "\n",
    "fac:{[n]\n",
    "    l:();\n",
    "    r: floor sqrt n;\n",
    "    l1: 1+til r;\n",
    "    l,:raze (l1 where (n mod l1) = 0);\n",
    "    l,:raze floor each (n % l);\n",
    "    :l\n",
    "    };\n",
    "\n",
    "/ From the question perceptive, we have to find the number of divisor for the number.\n",
    "/ We can modify the above function\n",
    "\n",
    "facN:{[n]\n",
    "    d:0;\n",
    "    r: 1+til floor sqrt n;\n",
    "    2* sum (n mod r) = 0\n",
    "    };\n",
    "\n",
    "/Find the triangle number\n",
    "\n",
    "triN:{[n] floor (n*(n+1))%2}"
   ]
  },
  {
   "cell_type": "code",
   "execution_count": 18,
   "id": "356c7ae7",
   "metadata": {},
   "outputs": [
    {
     "data": {
      "text/plain": [
       "76576500\n"
      ]
     },
     "execution_count": 18,
     "metadata": {},
     "output_type": "execute_result"
    }
   ],
   "source": [
    "/Solution area\n",
    "\n",
    "n:1\n",
    "while[(facN(triN(n))) < 500;n+:1]\n",
    "\n",
    "/answer\n",
    " \n",
    "triN n"
   ]
  },
  {
   "cell_type": "code",
   "execution_count": null,
   "id": "36bf21c6",
   "metadata": {},
   "outputs": [],
   "source": []
  },
  {
   "cell_type": "markdown",
   "id": "b656f02a",
   "metadata": {},
   "source": [
    "# 13 Large Sum\n",
    "\n",
    "Problem 13\n",
    "\n",
    "<p>Work out the first ten digits of the sum of the following one-hundred $50$-digit numbers.</p>\n",
    "<div class=\"monospace center\">"
   ]
  },
  {
   "cell_type": "code",
   "execution_count": 2,
   "id": "2ed31764",
   "metadata": {},
   "outputs": [],
   "source": [
    "n: \" \" vs \"37107287533902102798797998220837590246510135740250 46376937677490009712648124896970078050417018260538 74324986199524741059474233309513058123726617309629 91942213363574161572522430563301811072406154908250 23067588207539346171171980310421047513778063246676 89261670696623633820136378418383684178734361726757 28112879812849979408065481931592621691275889832738 44274228917432520321923589422876796487670272189318 47451445736001306439091167216856844588711603153276 70386486105843025439939619828917593665686757934951 62176457141856560629502157223196586755079324193331 64906352462741904929101432445813822663347944758178 92575867718337217661963751590579239728245598838407 58203565325359399008402633568948830189458628227828 80181199384826282014278194139940567587151170094390 35398664372827112653829987240784473053190104293586 86515506006295864861532075273371959191420517255829 71693888707715466499115593487603532921714970056938 54370070576826684624621495650076471787294438377604 53282654108756828443191190634694037855217779295145 36123272525000296071075082563815656710885258350721 45876576172410976447339110607218265236877223636045 17423706905851860660448207621209813287860733969412 81142660418086830619328460811191061556940512689692 51934325451728388641918047049293215058642563049483 62467221648435076201727918039944693004732956340691 15732444386908125794514089057706229429197107928209 55037687525678773091862540744969844508330393682126 18336384825330154686196124348767681297534375946515 80386287592878490201521685554828717201219257766954 78182833757993103614740356856449095527097864797581 16726320100436897842553539920931837441497806860984 48403098129077791799088218795327364475675590848030 87086987551392711854517078544161852424320693150332 59959406895756536782107074926966537676326235447210 69793950679652694742597709739166693763042633987085 41052684708299085211399427365734116182760315001271 65378607361501080857009149939512557028198746004375 35829035317434717326932123578154982629742552737307 94953759765105305946966067683156574377167401875275 88902802571733229619176668713819931811048770190271 25267680276078003013678680992525463401061632866526 36270218540497705585629946580636237993140746255962 24074486908231174977792365466257246923322810917141 91430288197103288597806669760892938638285025333403 34413065578016127815921815005561868836468420090470 23053081172816430487623791969842487255036638784583 11487696932154902810424020138335124462181441773470 63783299490636259666498587618221225225512486764533 67720186971698544312419572409913959008952310058822 95548255300263520781532296796249481641953868218774 76085327132285723110424803456124867697064507995236 37774242535411291684276865538926205024910326572967 23701913275725675285653248258265463092207058596522 29798860272258331913126375147341994889534765745501 18495701454879288984856827726077713721403798879715 38298203783031473527721580348144513491373226651381 34829543829199918180278916522431027392251122869539 40957953066405232632538044100059654939159879593635 29746152185502371307642255121183693803580388584903 41698116222072977186158236678424689157993532961922 62467957194401269043877107275048102390895523597457 23189706772547915061505504953922979530901129967519 86188088225875314529584099251203829009407770775672 11306739708304724483816533873502340845647058077308 82959174767140363198008187129011875491310547126581 97623331044818386269515456334926366572897563400500 42846280183517070527831839425882145521227251250327 55121603546981200581762165212827652751691296897789 32238195734329339946437501907836945765883352399886 75506164965184775180738168837861091527357929701337 62177842752192623401942399639168044983993173312731 32924185707147349566916674687634660915035914677504 99518671430235219628894890102423325116913619626622 73267460800591547471830798392868535206946944540724 76841822524674417161514036427982273348055556214818 97142617910342598647204516893989422179826088076852 87783646182799346313767754307809363333018982642090 10848802521674670883215120185883543223812876952786 71329612474782464538636993009049310363619763878039 62184073572399794223406235393808339651327408011116 66627891981488087797941876876144230030984490851411 60661826293682836764744779239180335110989069790714 85786944089552990653640447425576083659976645795096 66024396409905389607120198219976047599490197230297 64913982680032973156037120041377903785566085089252 16730939319872750275468906903707539413042652315011 94809377245048795150954100921645863754710598436791 78639167021187492431995700641917969777599028300699 15368713711936614952811305876380278410754449733078 40789923115535562561142322423255033685442488917353 44889911501440648020369068063960672322193204149535 41503128880339536053299340368006977710650566631954 81234880673210146739058568557934581403627822703280 82616570773948327592232845941706525094512325230608 22918802058777319719839450180888072429661980811197 77158542502016545090413245809786882778948721859617 72107838435069186155435662884062257473692284509516 20849603980134001723930671666823555245252804609722 53503534226472524250874054075591789781264330331690\""
   ]
  },
  {
   "cell_type": "code",
   "execution_count": 166,
   "id": "74d67bc3",
   "metadata": {},
   "outputs": [
    {
     "data": {
      "text/plain": [
       "\"5537376230390876637302048746832985971773659831892672\"\n"
      ]
     },
     "execution_count": 166,
     "metadata": {},
     "output_type": "execute_result"
    }
   ],
   "source": [
    "/ a:\"12312\"\n",
    "/ b:\"19\"\n",
    "/ c: max count each (a;b);\n",
    "/ mk0:{reverse \"0\"^neg[c]$x};\n",
    "/ a:mk0 a;\n",
    "/ b: mk0 b;\n",
    "/ i:0;\n",
    "/ p:\"0\";\n",
    "/ s:\"\";\n",
    "/ while[i<c;sm: string sum \"J\"$'(a[i];b[i];p);$[(count sm) > 1;[p:1$sm;sm:(1_sm)];p:\"0\"];s,:sm;i+:1];\n",
    "/ reverse s\n",
    "\n",
    "largeSum:{[a;b]\n",
    "    cn:: max count each (a;b);\n",
    "    mk0:{reverse \"0\"^neg[cn]$x};\n",
    "    a:mk0 a;\n",
    "    b:mk0 b;\n",
    "    i:0;\n",
    "    p:\"0\";\n",
    "    s:\"\";\n",
    "    while[i<=cn;sm: string sum \"J\"$'(a[i];b[i];p);$[(count sm) > 1;[p:1$sm;sm:(1_sm)];p:\"0\"];s,:sm;i+:1];\n",
    "    res: reverse s;\n",
    "    ((res <> \"0\")?1b)_res\n",
    "    };\n",
    "\n",
    "/largeSum[\"1020848\";\"1093858\"]\n",
    "\n",
    "(largeSum/) n\n"
   ]
  },
  {
   "cell_type": "code",
   "execution_count": null,
   "id": "53c45c7a",
   "metadata": {},
   "outputs": [],
   "source": []
  },
  {
   "cell_type": "markdown",
   "id": "71f9fe34",
   "metadata": {},
   "source": [
    "# Longest Collatz Sequence\n",
    "\n",
    "\n",
    "Problem 14"
   ]
  },
  {
   "cell_type": "code",
   "execution_count": 1,
   "id": "e005f8fd",
   "metadata": {},
   "outputs": [],
   "source": [
    "/collatz:{[n;kl] n;c:0; while[n > 1;$[(0N!n:`long$n) in key 0N!kl;[0N!c+:(kl[n]);n:0];((n) mod 2) = 0;n: n % 2; n: (3*n) + 1];c+:1];c};\n",
    "\n",
    "/ collatz:{[n;kl] \n",
    "/     c:0; \n",
    "/     while[n > 1;\n",
    "/         $[(n:`long$n) in key kl;\n",
    "/             [c+:(kl[n]);n:0];((n) mod 2) = 0;\n",
    "/             [n: n % 2;c+:1]; \n",
    "/             [n: (3*n) + 1;c+:1]]\n",
    "/         ];\n",
    "/     c};\n",
    "\n",
    "\n",
    "/Dict approach\n",
    "\n",
    "/ collatz:{[n]\n",
    "/     cn:0;\n",
    "/     while[(n:(`long$n)) >1;\n",
    "/         $[n in kl;\n",
    "/             [cn+:kl[n];n:0];\n",
    "/             (n mod 2) = 0;\n",
    "/             [n%:2;cn+:1];\n",
    "/             [n:(3 * n)+1;cn+:1]\n",
    "/             ]];\n",
    "/             kl[n]::cn;\n",
    "/             cn\n",
    "/     }\n",
    "\n",
    "l::(0)\n",
    "\n",
    "collatz: {[n] cn:0; while[(n:(`long$n)) >1; $[n < count(l); [cn+:l[n-1];n:0]; (n mod 2) = 0; [n%:2;cn+:1]; [n:(3 * n)+1;cn+:1] ]]; (l:: l,cn)}"
   ]
  },
  {
   "cell_type": "code",
   "execution_count": null,
   "id": "e4f274f5",
   "metadata": {},
   "outputs": [
    {
     "ename": "",
     "evalue": "",
     "output_type": "error",
     "traceback": [
      "\u001b[1;31mThe Kernel crashed while executing code in the current cell or a previous cell. \n",
      "\u001b[1;31mPlease review the code in the cell(s) to identify a possible cause of the failure. \n",
      "\u001b[1;31mClick <a href='https://aka.ms/vscodeJupyterKernelCrash'>here</a> for more info. \n",
      "\u001b[1;31mView Jupyter <a href='command:jupyter.viewOutput'>log</a> for further details."
     ]
    }
   ],
   "source": [
    "\\t collatz'[2+til 1000000-2]"
   ]
  },
  {
   "cell_type": "code",
   "execution_count": 14,
   "id": "95f1d799",
   "metadata": {},
   "outputs": [],
   "source": []
  },
  {
   "cell_type": "code",
   "execution_count": 15,
   "id": "23c4c2da",
   "metadata": {},
   "outputs": [],
   "source": [
    "kl:: ((enlist 1)!(enlist 0));\n",
    "/ n:2\n",
    "/ maxi : 0\n",
    "/ maxn:n\n",
    "\n",
    "/ while[n < 10000000;\n",
    "/     known_length[n]:(temp:collatz[n;known_length]);\n",
    "/     if[temp > maxi; maxi: temp; maxn:n]\n",
    "/     n+:1\n",
    "/     ]"
   ]
  },
  {
   "cell_type": "code",
   "execution_count": 16,
   "id": "c873c430",
   "metadata": {},
   "outputs": [],
   "source": [
    "kl "
   ]
  },
  {
   "cell_type": "code",
   "execution_count": 1,
   "id": "752b7656",
   "metadata": {},
   "outputs": [],
   "source": [
    "/collatz each til 100000"
   ]
  },
  {
   "cell_type": "code",
   "execution_count": null,
   "id": "7b145131",
   "metadata": {},
   "outputs": [],
   "source": []
  },
  {
   "cell_type": "markdown",
   "id": "db59d2d0",
   "metadata": {},
   "source": []
  },
  {
   "cell_type": "code",
   "execution_count": null,
   "id": "fbec090c",
   "metadata": {},
   "outputs": [],
   "source": []
  },
  {
   "cell_type": "code",
   "execution_count": null,
   "id": "d143f8c7",
   "metadata": {},
   "outputs": [],
   "source": []
  },
  {
   "cell_type": "markdown",
   "id": "380eaae0",
   "metadata": {},
   "source": [
    "# Power Digit Sum\n",
    "\n",
    "<p>2^{15} = 32768$ and the sum of its digits is 3 + 2 + 7 + 6 + 8 = 26$.</p>\n",
    "<p>What is the sum of the digits of the number 2^{1000}</p>"
   ]
  },
  {
   "cell_type": "code",
   "execution_count": 57,
   "id": "1baed85a",
   "metadata": {},
   "outputs": [],
   "source": [
    "\n",
    "pow:{[n;p]\n",
    "    p: \"J\"$p;\n",
    "    / n: if[n like \"0*\";n:1_n];\n",
    "    num: \"0\"^-2$(string ((\"J\"$string n) * p));\n",
    "    p: \"J\"$string (\"0\"^(cn:(count num)+1)$first each num);\n",
    "    v:\"J\"$(\"0\",string last each num);\n",
    "    n: raze string (p + v);\n",
    "    n\n",
    "    }"
   ]
  },
  {
   "cell_type": "code",
   "execution_count": 69,
   "id": "f9102f4d",
   "metadata": {},
   "outputs": [
    {
     "data": {
      "text/plain": [
       "1366\n"
      ]
     },
     "execution_count": 69,
     "metadata": {},
     "output_type": "execute_result"
    }
   ],
   "source": [
    "l: (pow/) string (1000#2)\n",
    "(+/)(\"J\"$string l)"
   ]
  },
  {
   "cell_type": "code",
   "execution_count": null,
   "id": "40887ed0",
   "metadata": {},
   "outputs": [],
   "source": []
  },
  {
   "cell_type": "markdown",
   "id": "9c86d7da",
   "metadata": {},
   "source": [
    "# Number Letter Counts"
   ]
  },
  {
   "cell_type": "code",
   "execution_count": null,
   "id": "8d462595",
   "metadata": {},
   "outputs": [],
   "source": []
  },
  {
   "cell_type": "code",
   "execution_count": null,
   "id": "6eaeff59",
   "metadata": {},
   "outputs": [],
   "source": []
  },
  {
   "cell_type": "code",
   "execution_count": null,
   "id": "146c713f",
   "metadata": {},
   "outputs": [],
   "source": []
  },
  {
   "cell_type": "code",
   "execution_count": null,
   "id": "188f7c7e",
   "metadata": {},
   "outputs": [],
   "source": []
  },
  {
   "cell_type": "code",
   "execution_count": null,
   "id": "fda85eb1",
   "metadata": {},
   "outputs": [],
   "source": []
  },
  {
   "cell_type": "code",
   "execution_count": null,
   "id": "540b76d3",
   "metadata": {},
   "outputs": [],
   "source": []
  },
  {
   "cell_type": "code",
   "execution_count": null,
   "id": "c0bc3857",
   "metadata": {},
   "outputs": [],
   "source": []
  }
 ],
 "metadata": {
  "kernelspec": {
   "display_name": "Q (kdb+)",
   "language": "q",
   "name": "qpk"
  },
  "language_info": {
   "file_extension": ".q",
   "mimetype": "text/x-q",
   "name": "q",
   "version": "4.0"
  }
 },
 "nbformat": 4,
 "nbformat_minor": 5
}
