{
 "cells": [
  {
   "cell_type": "code",
   "execution_count": null,
   "metadata": {},
   "outputs": [],
   "source": []
  },
  {
   "cell_type": "code",
   "execution_count": 4,
   "metadata": {},
   "outputs": [
    {
     "name": "stdout",
     "output_type": "stream",
     "text": [
      "[2, 2, 2, 2]\n"
     ]
    }
   ],
   "source": [
    "# Find the factor for the number n\n",
    "\n",
    "n = int(input(\"Enter the number: \"))\n",
    "\n",
    "lis = []\n",
    "\n",
    "d = 2\n",
    "\n",
    "while n > 1:\n",
    "    while n % d == 0:\n",
    "        lis.append(d)\n",
    "        n = n / d\n",
    "    d = d + 1\n",
    "\n",
    "print(lis)"
   ]
  },
  {
   "cell_type": "code",
   "execution_count": 14,
   "metadata": {},
   "outputs": [
    {
     "data": {
      "text/plain": [
       "[1, 18, 2, 3, 3]"
      ]
     },
     "execution_count": 14,
     "metadata": {},
     "output_type": "execute_result"
    }
   ],
   "source": [
    "# Make the fundtion as finding factors as function\n",
    "\n",
    "# Add the factor with number 1 and n itself\n",
    "\n",
    "def factors(n):\n",
    "    d = 2\n",
    "    lis = [1,n]\n",
    "    while n > 1:\n",
    "        while n % d == 0:\n",
    "            lis.append(d)\n",
    "            n/=d\n",
    "        d+=1\n",
    "    return lis\n",
    "\n",
    "\n",
    "factors(18)"
   ]
  },
  {
   "cell_type": "code",
   "execution_count": null,
   "metadata": {},
   "outputs": [],
   "source": []
  },
  {
   "cell_type": "markdown",
   "metadata": {},
   "source": [
    "# 4. Smallest Multiple"
   ]
  },
  {
   "cell_type": "code",
   "execution_count": 2,
   "metadata": {},
   "outputs": [],
   "source": [
    "# Find GCD\n",
    "\n",
    "def gcd(n1,n2):\n",
    "    while n2 != 0:\n",
    "        n1, n2 = n2, n1 % n2\n",
    "    return n1"
   ]
  },
  {
   "cell_type": "code",
   "execution_count": 3,
   "metadata": {},
   "outputs": [
    {
     "data": {
      "text/plain": [
       "2"
      ]
     },
     "execution_count": 3,
     "metadata": {},
     "output_type": "execute_result"
    }
   ],
   "source": [
    "# Execute the function\n",
    "\n",
    "gcd(10,16)"
   ]
  },
  {
   "cell_type": "code",
   "execution_count": 23,
   "metadata": {},
   "outputs": [],
   "source": [
    "# Find the LCM\n",
    "\n",
    "def LCM(n1,n2):\n",
    "    g = gcd(n1,n2)\n",
    "    return (n1 * n2) / g"
   ]
  },
  {
   "cell_type": "code",
   "execution_count": 27,
   "metadata": {},
   "outputs": [
    {
     "name": "stdout",
     "output_type": "stream",
     "text": [
      "232792560.0\n"
     ]
    }
   ],
   "source": [
    "\n",
    "f = 1\n",
    "for i in range(2,20):\n",
    "    f = LCM(f,i)\n",
    "\n",
    "print(f)"
   ]
  },
  {
   "cell_type": "code",
   "execution_count": null,
   "metadata": {},
   "outputs": [],
   "source": []
  },
  {
   "cell_type": "code",
   "execution_count": null,
   "metadata": {},
   "outputs": [],
   "source": []
  },
  {
   "cell_type": "code",
   "execution_count": null,
   "metadata": {},
   "outputs": [],
   "source": []
  }
 ],
 "metadata": {
  "kernelspec": {
   "display_name": "Python 3",
   "language": "python",
   "name": "python3"
  },
  "language_info": {
   "codemirror_mode": {
    "name": "ipython",
    "version": 3
   },
   "file_extension": ".py",
   "mimetype": "text/x-python",
   "name": "python",
   "nbconvert_exporter": "python",
   "pygments_lexer": "ipython3",
   "version": "3.10.12"
  }
 },
 "nbformat": 4,
 "nbformat_minor": 2
}
