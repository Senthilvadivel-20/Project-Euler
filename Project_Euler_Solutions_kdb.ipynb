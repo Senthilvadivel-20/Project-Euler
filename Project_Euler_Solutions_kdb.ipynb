{
 "cells": [
  {
   "cell_type": "code",
   "execution_count": null,
   "id": "631c747e",
   "metadata": {},
   "outputs": [],
   "source": []
  },
  {
   "cell_type": "code",
   "execution_count": null,
   "id": "503837a9",
   "metadata": {},
   "outputs": [],
   "source": []
  },
  {
   "cell_type": "markdown",
   "id": "5739e6b9",
   "metadata": {},
   "source": [
    "# 4\n",
    "\n",
    "\n",
    "Auth: Senthil\n",
    "Date; 01/08/2024\n",
    "\n",
    "Find the largest palindrom of product of 3 digit \n"
   ]
  },
  {
   "cell_type": "code",
   "execution_count": 7,
   "id": "726c9bfe",
   "metadata": {},
   "outputs": [
    {
     "name": "stdout",
     "output_type": "stream",
     "text": [
      "906609\n"
     ]
    },
    {
     "data": {
      "text/plain": [
       "906609\n"
      ]
     },
     "execution_count": 7,
     "metadata": {},
     "output_type": "execute_result"
    }
   ],
   "source": [
    "\n",
    "\n",
    "\n",
    "l1: 100+til 900\n",
    "\n",
    "nums: l1 cross l1\n",
    "\n",
    "res : desc prd each nums\n",
    "\n",
    "pal:{x: string x; ~[x;reverse x]}\n",
    "\n",
    "n:0\n",
    "\n",
    "while[not pal res[n];n+:1]\n",
    "\n",
    "0N!res[n]"
   ]
  },
  {
   "cell_type": "markdown",
   "id": "b7cd74b6",
   "metadata": {},
   "source": [
    "# 5\n",
    "\n",
    "Date: 02/08/2024\n"
   ]
  },
  {
   "cell_type": "code",
   "execution_count": null,
   "id": "6e90644c",
   "metadata": {},
   "outputs": [],
   "source": [
    "n: 0\n",
    "\n",
    "while[not all (n mod 1+til 10); n+:1]"
   ]
  },
  {
   "cell_type": "code",
   "execution_count": null,
   "id": "65652f28",
   "metadata": {},
   "outputs": [],
   "source": []
  },
  {
   "cell_type": "code",
   "execution_count": null,
   "id": "421d9998",
   "metadata": {},
   "outputs": [],
   "source": []
  },
  {
   "cell_type": "code",
   "execution_count": null,
   "id": "71a80096",
   "metadata": {},
   "outputs": [],
   "source": []
  }
 ],
 "metadata": {
  "kernelspec": {
   "display_name": "Q (kdb+)",
   "language": "q",
   "name": "qpk"
  },
  "language_info": {
   "file_extension": ".q",
   "mimetype": "text/x-q",
   "name": "q",
   "version": "4.0"
  }
 },
 "nbformat": 4,
 "nbformat_minor": 5
}
