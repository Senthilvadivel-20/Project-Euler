{
 "cells": [
  {
   "cell_type": "code",
   "execution_count": null,
   "id": "631c747e",
   "metadata": {},
   "outputs": [],
   "source": []
  },
  {
   "cell_type": "code",
   "execution_count": null,
   "id": "503837a9",
   "metadata": {},
   "outputs": [],
   "source": []
  },
  {
   "cell_type": "markdown",
   "id": "5739e6b9",
   "metadata": {},
   "source": [
    "# 4\n",
    "\n",
    "\n",
    "Auth: Senthil\n",
    "Date; 01/08/2024\n",
    "\n",
    "Find the largest palindrom of product of 3 digit \n"
   ]
  },
  {
   "cell_type": "code",
   "execution_count": 2,
   "id": "726c9bfe",
   "metadata": {},
   "outputs": [
    {
     "name": "stdout",
     "output_type": "stream",
     "text": [
      "906609\n"
     ]
    },
    {
     "data": {
      "text/plain": [
       "906609\n"
      ]
     },
     "execution_count": 2,
     "metadata": {},
     "output_type": "execute_result"
    }
   ],
   "source": [
    "\n",
    "\n",
    "\n",
    "l1: 100+til 900\n",
    "\n",
    "nums: l1 cross l1\n",
    "\n",
    "res : desc prd each nums\n",
    "\n",
    "pal:{x: string x; ~[x;reverse x]}\n",
    "\n",
    "n:0\n",
    "\n",
    "while[not pal res[n];n+:1]\n",
    "\n",
    "0N!res[n]"
   ]
  },
  {
   "cell_type": "markdown",
   "id": "b7cd74b6",
   "metadata": {},
   "source": [
    "# 4. Smallest Multiple\n",
    "\n",
    "Date: 02/08/2024\n"
   ]
  },
  {
   "cell_type": "code",
   "execution_count": 8,
   "id": "6e90644c",
   "metadata": {},
   "outputs": [
    {
     "data": {
      "text/plain": [
       "2\n"
      ]
     },
     "execution_count": 8,
     "metadata": {},
     "output_type": "execute_result"
    }
   ],
   "source": [
    "/find the gcd\n",
    "\n",
    "gcd:{[a;b] while[b<>0; temp:b ;b:a mod b ;a:temp];:a};\n",
    "\n",
    "gcd[10;16]"
   ]
  },
  {
   "cell_type": "code",
   "execution_count": 9,
   "id": "65652f28",
   "metadata": {},
   "outputs": [],
   "source": [
    "/ Find the LCM\n",
    "\n",
    "lcm:{[a;b] (a*b)%gcd[a;b]}"
   ]
  },
  {
   "cell_type": "code",
   "execution_count": 14,
   "id": "421d9998",
   "metadata": {},
   "outputs": [
    {
     "data": {
      "text/plain": [
       "232792560f\n"
      ]
     },
     "execution_count": 14,
     "metadata": {},
     "output_type": "execute_result"
    }
   ],
   "source": [
    "/ Answer part\n",
    "\n",
    "\\P 10\n",
    "\n",
    "(lcm/) (1+til 20)\n"
   ]
  },
  {
   "cell_type": "code",
   "execution_count": null,
   "id": "71a80096",
   "metadata": {},
   "outputs": [],
   "source": []
  },
  {
   "cell_type": "markdown",
   "id": "a50e1598",
   "metadata": {},
   "source": [
    "# 7. 10001st Prime\n",
    "\n",
    "<p>By listing the first six prime numbers: 2, 3, 5, 7, 11, and 13, we can see that the $6$th prime is 13.</p>\n",
    "<p>What is the 10,001 st prime number?</p>\n",
    "\n",
    "#### The below one is brute force"
   ]
  },
  {
   "cell_type": "code",
   "execution_count": 3,
   "id": "6750f2c6",
   "metadata": {},
   "outputs": [],
   "source": [
    "/ Find the factor function\n",
    "\n",
    "/ !!!!!!!!!!!!!!!!! Brute Force !!!!!!!!!!!!!!!!!!!!!!!!!!!\n",
    "\n",
    "fac:{[n] d:2;lis:();while[n>1;[while[(n mod d) = 0; lis,:d;n:n%d];d+:1]]; count lis}\n",
    "\n",
    "prime_lis: ()\n",
    "\n",
    "n:2\n",
    "\n",
    "while[\n",
    "    (count prime_lis) <> 100;\n",
    "    if[fac[n] = 1;prime_lis,:n];\n",
    "    n+:1\n",
    "    ]\n"
   ]
  },
  {
   "cell_type": "code",
   "execution_count": 3,
   "id": "4ef177c4",
   "metadata": {},
   "outputs": [
    {
     "data": {
      "text/plain": [
       "104743\n"
      ]
     },
     "execution_count": 3,
     "metadata": {},
     "output_type": "execute_result"
    }
   ],
   "source": [
    "// !!!!!!!!!1 Optimum solution !!!!!!!!!!\n",
    "\n",
    "/\n",
    "The above one is brute force method and we can reduce billions of steps. \n",
    "\n",
    "Once the number is divided by 2 or 3 then it's definetly not a prime number. Why you have to find the all factor for the number and find the fucking count. \n",
    "\n",
    "Reduce the multiple iteration. Once it not divided by 2 or 3 other prime factors might be 5,7, 11, 13 etc. But you can see after 2 prime numbers have patters. It's increase by 6 by 6.\n",
    "\n",
    "29 31 37 39 41 43\n",
    "0   2  6  2  6  2\n",
    "\n",
    "\\\n",
    "\n",
    "/---------------------Wrong Output-------------------------------------\n",
    "\n",
    "prime_list:();\n",
    "\n",
    "prime:{\n",
    "    i:5;\n",
    "    $[x <= 1;res:0b;x <=3;res:1b;(((x mod 2) = 0) or ((x mod 3)=0));res:0b;res:1b];\n",
    "    while[((i*i) <= x) * res;\n",
    "        / 0N!i;\n",
    "        if[(((x mod i) = 0) or ((x mod (i+2)) = 0));res:0b];\n",
    "        i+:6;\n",
    "        ];\n",
    "    res\n",
    "    };\n",
    "\n",
    "n:2\n",
    "c:0\n",
    "\n",
    "while[c < 10001;\n",
    "    if[prime(n);prime_list,:n;c+:1];\n",
    "    n+:1\n",
    "    ]\n",
    "\n",
    "last prime_list\n",
    "\n"
   ]
  },
  {
   "cell_type": "code",
   "execution_count": null,
   "id": "dbd42e7d",
   "metadata": {},
   "outputs": [],
   "source": []
  },
  {
   "cell_type": "code",
   "execution_count": null,
   "id": "4f2bc928",
   "metadata": {},
   "outputs": [],
   "source": []
  },
  {
   "cell_type": "code",
   "execution_count": null,
   "id": "2b0bb10f",
   "metadata": {},
   "outputs": [],
   "source": []
  },
  {
   "cell_type": "markdown",
   "id": "1cb28fe5",
   "metadata": {},
   "source": [
    "# 8. Largest Product in a Series\n",
    "\n",
    "<p>The four adjacent digits in the $1000$-digit number that have the greatest product are $9 \\times 9 \\times 8 \\times 9 = 5832$.</p>\n",
    "<p class=\"monospace center\">\n",
    "73167176531330624919225119674426574742355349194934<br>\n",
    "96983520312774506326239578318016984801869478851843<br>\n",
    "85861560789112949495459501737958331952853208805511<br>\n",
    "12540698747158523863050715693290963295227443043557<br>\n",
    "66896648950445244523161731856403098711121722383113<br>\n",
    "62229893423380308135336276614282806444486645238749<br>\n",
    "30358907296290491560440772390713810515859307960866<br>\n",
    "70172427121883998797908792274921901699720888093776<br>\n",
    "65727333001053367881220235421809751254540594752243<br>\n",
    "52584907711670556013604839586446706324415722155397<br>\n",
    "53697817977846174064955149290862569321978468622482<br>\n",
    "83972241375657056057490261407972968652414535100474<br>\n",
    "82166370484403199890008895243450658541227588666881<br>\n",
    "16427171479924442928230863465674813919123162824586<br>\n",
    "17866458359124566529476545682848912883142607690042<br>\n",
    "24219022671055626321111109370544217506941658960408<br>\n",
    "07198403850962455444362981230987879927244284909188<br>\n",
    "84580156166097919133875499200524063689912560717606<br>\n",
    "05886116467109405077541002256983155200055935729725<br>\n",
    "71636269561882670428252483600823257530420752963450<br></p>\n",
    "<p>Find the thirteen adjacent digits in the $1000$-digit number that have the greatest product. What is the value of this product?</p>\n"
   ]
  },
  {
   "cell_type": "code",
   "execution_count": 39,
   "id": "1642769f",
   "metadata": {},
   "outputs": [
    {
     "data": {
      "text/plain": [
       "23514624000\n"
      ]
     },
     "execution_count": 39,
     "metadata": {},
     "output_type": "execute_result"
    }
   ],
   "source": [
    "num: \"7316717653133062491922511967442657474235534919493496983520312774506326239578318016984801869478851843858615607891129494954595017379583319528532088055111254069874715852386305071569329096329522744304355766896648950445244523161731856403098711121722383113622298934233803081353362766142828064444866452387493035890729629049156044077239071381051585930796086670172427121883998797908792274921901699720888093776657273330010533678812202354218097512545405947522435258490771167055601360483958644670632441572215539753697817977846174064955149290862569321978468622482839722413756570560574902614079729686524145351004748216637048440319989000889524345065854122758866688116427171479924442928230863465674813919123162824586178664583591245665294765456828489128831426076900422421902267105562632111110937054421750694165896040807198403850962455444362981230987879927244284909188845801561660979191338754992005240636899125607176060588611646710940507754100225698315520005593572972571636269561882670428252483600823257530420752963450\"\n",
    "\n",
    "num: \"J\"$(string num)\n",
    "\n",
    "adj: (count(num)) - 4\n",
    "m::0\n",
    "ms::()\n",
    "\n",
    "{if[(tempM:(prd (temp: num [x+til 13]))) > m; m::tempM;ms:: temp]}'[til adj];\n",
    "\n",
    "m"
   ]
  },
  {
   "cell_type": "code",
   "execution_count": null,
   "id": "96f56784",
   "metadata": {},
   "outputs": [],
   "source": []
  },
  {
   "cell_type": "markdown",
   "id": "57cf9b01",
   "metadata": {},
   "source": [
    "# 9. Special Pythagorean Triplet\n",
    "\n",
    "\n",
    "<p>A Pythagorean triplet is a set of three natural numbers, $a \\lt b \\lt c$, for which,\n",
    "$$a^2 + b^2 = c^2.$$</p>\n",
    "<p>For example, $3^2 + 4^2 = 9 + 16 = 25 = 5^2$.</p>\n",
    "<p>There exists exactly one Pythagorean triplet for which $a + b + c = 1000$.<br>Find the product $abc$.</p>\n",
    "\n",
    "**I have derived the equation in my notebook. It basically about pythagoras therom. c^2 = a^2 + b^2.**\n"
   ]
  },
  {
   "cell_type": "code",
   "execution_count": 1,
   "id": "f888f94e",
   "metadata": {},
   "outputs": [],
   "source": [
    "numB:{(1000*(500-x)) % (1000 - x)}"
   ]
  },
  {
   "cell_type": "code",
   "execution_count": 18,
   "id": "2322ab4f",
   "metadata": {},
   "outputs": [
    {
     "data": {
      "text/plain": [
       "31875000f\n"
      ]
     },
     "execution_count": 18,
     "metadata": {},
     "output_type": "execute_result"
    }
   ],
   "source": [
    "a:1\n",
    "while[((`long$(b)) - b:(numB a)) <> 0f;a+:1]\n",
    "\n",
    "/ based on the question\n",
    "/ a+b+c = 1000\n",
    "\n",
    "c : (1000 - a) - b\n",
    "\n",
    "\\P 10\n",
    "\n",
    "prd (a;b;c)"
   ]
  },
  {
   "cell_type": "code",
   "execution_count": null,
   "id": "a08e9bc4",
   "metadata": {},
   "outputs": [],
   "source": []
  },
  {
   "cell_type": "markdown",
   "id": "a99ccea7",
   "metadata": {},
   "source": [
    "# Summation of Primes\n",
    "\n",
    "<p>The sum of the primes below $10$ is $2 + 3 + 5 + 7 = 17$.</p>\n",
    "<p>Find the sum of all the primes below two million.</p>"
   ]
  },
  {
   "cell_type": "code",
   "execution_count": 7,
   "id": "939f8ec5",
   "metadata": {},
   "outputs": [
    {
     "data": {
      "text/plain": [
       "142913828922\n"
      ]
     },
     "execution_count": 7,
     "metadata": {},
     "output_type": "execute_result"
    }
   ],
   "source": [
    "/ Use the above function to find the prime\n",
    "\n",
    "\n",
    "primeSum:0\n",
    "\n",
    "n:2\n",
    "\n",
    "while[n < 2000000;if[prime(n);primeSum+:n];n+:1]\n",
    "\n",
    "primeSum"
   ]
  },
  {
   "cell_type": "code",
   "execution_count": null,
   "id": "5e1b6d41",
   "metadata": {},
   "outputs": [],
   "source": []
  },
  {
   "cell_type": "code",
   "execution_count": null,
   "id": "70799f47",
   "metadata": {},
   "outputs": [],
   "source": []
  },
  {
   "cell_type": "code",
   "execution_count": null,
   "id": "6ea2599f",
   "metadata": {},
   "outputs": [],
   "source": []
  }
 ],
 "metadata": {
  "kernelspec": {
   "display_name": "Q (kdb+)",
   "language": "q",
   "name": "qpk"
  },
  "language_info": {
   "file_extension": ".q",
   "mimetype": "text/x-q",
   "name": "q",
   "version": "4.0"
  }
 },
 "nbformat": 4,
 "nbformat_minor": 5
}
