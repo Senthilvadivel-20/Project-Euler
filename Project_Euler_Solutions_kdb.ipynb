{
 "cells": [
  {
   "cell_type": "code",
   "execution_count": null,
   "id": "631c747e",
   "metadata": {},
   "outputs": [],
   "source": []
  },
  {
   "cell_type": "code",
   "execution_count": null,
   "id": "503837a9",
   "metadata": {},
   "outputs": [],
   "source": []
  },
  {
   "cell_type": "markdown",
   "id": "5739e6b9",
   "metadata": {},
   "source": [
    "# 4\n",
    "\n",
    "\n",
    "Auth: Senthil\n",
    "Date; 01/08/2024\n",
    "\n",
    "Find the largest palindrom of product of 3 digit \n"
   ]
  },
  {
   "cell_type": "code",
   "execution_count": 2,
   "id": "726c9bfe",
   "metadata": {},
   "outputs": [
    {
     "name": "stdout",
     "output_type": "stream",
     "text": [
      "906609\n"
     ]
    },
    {
     "data": {
      "text/plain": [
       "906609\n"
      ]
     },
     "execution_count": 2,
     "metadata": {},
     "output_type": "execute_result"
    }
   ],
   "source": [
    "\n",
    "\n",
    "\n",
    "l1: 100+til 900\n",
    "\n",
    "nums: l1 cross l1\n",
    "\n",
    "res : desc prd each nums\n",
    "\n",
    "pal:{x: string x; ~[x;reverse x]}\n",
    "\n",
    "n:0\n",
    "\n",
    "while[not pal res[n];n+:1]\n",
    "\n",
    "0N!res[n]"
   ]
  },
  {
   "cell_type": "markdown",
   "id": "b7cd74b6",
   "metadata": {},
   "source": [
    "# 4. Smallest Multiple\n",
    "\n",
    "Date: 02/08/2024\n"
   ]
  },
  {
   "cell_type": "code",
   "execution_count": 8,
   "id": "6e90644c",
   "metadata": {},
   "outputs": [
    {
     "data": {
      "text/plain": [
       "2\n"
      ]
     },
     "execution_count": 8,
     "metadata": {},
     "output_type": "execute_result"
    }
   ],
   "source": [
    "/find the gcd\n",
    "\n",
    "gcd:{[a;b] while[b<>0; temp:b ;b:a mod b ;a:temp];:a};\n",
    "\n",
    "gcd[10;16]"
   ]
  },
  {
   "cell_type": "code",
   "execution_count": 9,
   "id": "65652f28",
   "metadata": {},
   "outputs": [],
   "source": [
    "/ Find the LCM\n",
    "\n",
    "lcm:{[a;b] (a*b)%gcd[a;b]}"
   ]
  },
  {
   "cell_type": "code",
   "execution_count": 14,
   "id": "421d9998",
   "metadata": {},
   "outputs": [
    {
     "data": {
      "text/plain": [
       "232792560f\n"
      ]
     },
     "execution_count": 14,
     "metadata": {},
     "output_type": "execute_result"
    }
   ],
   "source": [
    "/ Answer part\n",
    "\n",
    "\\P 10\n",
    "\n",
    "(lcm/) (1+til 20)\n"
   ]
  },
  {
   "cell_type": "code",
   "execution_count": null,
   "id": "71a80096",
   "metadata": {},
   "outputs": [],
   "source": []
  },
  {
   "cell_type": "markdown",
   "id": "a50e1598",
   "metadata": {},
   "source": [
    "# 7. 10001st Prime\n",
    "\n",
    "<p>By listing the first six prime numbers: 2, 3, 5, 7, 11, and 13, we can see that the $6$th prime is 13.</p>\n",
    "<p>What is the 10,001 st prime number?</p>\n",
    "\n",
    "#### The below one is brute force"
   ]
  },
  {
   "cell_type": "code",
   "execution_count": null,
   "id": "6750f2c6",
   "metadata": {},
   "outputs": [
    {
     "ename": "",
     "evalue": "",
     "output_type": "error",
     "traceback": [
      "\u001b[1;31mThe Kernel crashed while executing code in the current cell or a previous cell. \n",
      "\u001b[1;31mPlease review the code in the cell(s) to identify a possible cause of the failure. \n",
      "\u001b[1;31mClick <a href='https://aka.ms/vscodeJupyterKernelCrash'>here</a> for more info. \n",
      "\u001b[1;31mView Jupyter <a href='command:jupyter.viewOutput'>log</a> for further details."
     ]
    }
   ],
   "source": [
    "/ Find the factor function\n",
    "\n",
    "\n",
    "/ fac:{[n] d:2;lis:();while[n>1;[while[(n mod d) = 0; lis,:d;n:n%d];d+:1]]; count lis}\n",
    "\n",
    "/ prime_lis: ()\n",
    "\n",
    "/ n:2\n",
    "\n",
    "/ while[\n",
    "/     (count prime_lis) <> 10001;\n",
    "/     if[fac[n] = 1;prime_lis,:n];\n",
    "/     n+:1\n",
    "/     ]\n"
   ]
  },
  {
   "cell_type": "code",
   "execution_count": null,
   "id": "4ef177c4",
   "metadata": {},
   "outputs": [],
   "source": []
  },
  {
   "cell_type": "code",
   "execution_count": 19,
   "id": "1642769f",
   "metadata": {},
   "outputs": [
    {
     "data": {
      "text/plain": [
       "2 3 5 7 11 13\n"
      ]
     },
     "execution_count": 19,
     "metadata": {},
     "output_type": "execute_result"
    }
   ],
   "source": [
    "prime_lis"
   ]
  },
  {
   "cell_type": "code",
   "execution_count": null,
   "id": "f888f94e",
   "metadata": {},
   "outputs": [],
   "source": []
  }
 ],
 "metadata": {
  "kernelspec": {
   "display_name": "Q (kdb+)",
   "language": "q",
   "name": "qpk"
  },
  "language_info": {
   "file_extension": ".q",
   "mimetype": "text/x-q",
   "name": "q",
   "version": "4.0"
  }
 },
 "nbformat": 4,
 "nbformat_minor": 5
}
